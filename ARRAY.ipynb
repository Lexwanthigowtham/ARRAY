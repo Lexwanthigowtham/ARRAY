{
 "cells": [
  {
   "cell_type": "code",
   "execution_count": 4,
   "id": "ac15b705-2bb3-429a-900c-b8b0947c37bb",
   "metadata": {},
   "outputs": [
    {
     "name": "stdout",
     "output_type": "stream",
     "text": [
      "Yes\n"
     ]
    }
   ],
   "source": [
    "# 1.Python3 program to Check if a given array contains duplicate\n",
    "# elements within k distance from each other\n",
    "def checkDuplicatesWithinK(arr,  n,  k):\n",
    " \n",
    "    # traversing the input array\n",
    "    for i in range(n):\n",
    "        j = i + 1\n",
    "        range_ = k\n",
    "         \n",
    "        # searching in next k-1 elements if its duplicate\n",
    "        # is present or not\n",
    "        while (range_ > 0 and j < n):\n",
    "            if (arr[i] == arr[j]):\n",
    "                return True\n",
    "            j += 1\n",
    "            range_ -= 1\n",
    " \n",
    "    return False\n",
    " \n",
    " \n",
    "# Driver method to test above method\n",
    " \n",
    "arr = [1 ,2,4,2,5,9]\n",
    "n = len(arr)\n",
    "if (checkDuplicatesWithinK(arr, n, 3) == True):\n",
    "    print(\"Yes\")\n",
    "else:\n",
    "    print(\"No\")"
   ]
  },
  {
   "cell_type": "code",
   "execution_count": 6,
   "id": "2f066416-9f53-434f-8dc2-a962d783bd10",
   "metadata": {},
   "outputs": [
    {
     "name": "stdout",
     "output_type": "stream",
     "text": [
      "5 6 7 1 2 3 4 \n",
      "\n"
     ]
    }
   ],
   "source": [
    "#2.\n",
    "def RightRotate(a, n, k):\n",
    " \n",
    "    # If rotation is greater \n",
    "    # than size of array\n",
    "    k = k % n;\n",
    " \n",
    "    for i in range(0, n):\n",
    " \n",
    "        if(i < k):\n",
    " \n",
    "            # Printing rightmost \n",
    "            # kth elements\n",
    "            print(a[n + i - k], end = \" \");\n",
    " \n",
    "        else:\n",
    " \n",
    "            # Prints array after\n",
    "            # 'k' elements\n",
    "            print(a[i - k], end = \" \");\n",
    " \n",
    "    print(\"\\n\");\n",
    " \n",
    "# Driver code\n",
    "Array = [ 1, 2, 3, 4, 5,6,7 ];\n",
    "N = len(Array);\n",
    "K = 3\n",
    "     \n",
    "RightRotate(Array, N, K);\n",
    " "
   ]
  },
  {
   "cell_type": "code",
   "execution_count": 12,
   "id": "7580461a-20ba-4f2b-b5da-04257c801851",
   "metadata": {},
   "outputs": [
    {
     "name": "stdout",
     "output_type": "stream",
     "text": [
      "reversed arr is [12, 9, 7, 5, 4, 2]\n"
     ]
    }
   ],
   "source": [
    "#3.\n",
    "arr=[2,4,5,7,9,12]\n",
    "arr.reverse()\n",
    "print('reversed arr is',arr)"
   ]
  },
  {
   "cell_type": "code",
   "execution_count": 10,
   "id": "ee912d79-3d26-4927-a9f1-f1717869b122",
   "metadata": {},
   "outputs": [
    {
     "name": "stdout",
     "output_type": "stream",
     "text": [
      "Largest in given array  20\n"
     ]
    }
   ],
   "source": [
    "#4.def largest(arr, n):\n",
    " \n",
    "    # Initialize maximum element\n",
    "    max = arr[0]\n",
    " \n",
    "    # Traverse array elements from second\n",
    "    # and compare every element with\n",
    "    # current max\n",
    "    for i in range(1, n):\n",
    "        if arr[i] > max:\n",
    "            max = arr[i]\n",
    "    return max\n",
    " \n",
    " \n",
    "# Driver Code\n",
    "arr = [10, 5,20,8,15]\n",
    "n = len(arr)\n",
    "Ans = largest(arr, n)\n",
    "print(\"Largest in given array \", Ans)"
   ]
  },
  {
   "cell_type": "code",
   "execution_count": 11,
   "id": "64921cbe-7c20-4618-a41e-99d04117bc00",
   "metadata": {},
   "outputs": [
    {
     "name": "stdout",
     "output_type": "stream",
     "text": [
      "The original list is : [1, 1, 2, 2, 2, 3, 3, 4, 4, 4, 5, 5]\n",
      "The list after removing duplicates : [1, 2, 3, 4, 5]\n"
     ]
    }
   ],
   "source": [
    "# 5.initializing list\n",
    "test_list = [1,1,2,2,2,3,3,4,4,4,5,5]\n",
    "print (\"The original list is : \"\n",
    "        + str(test_list))\n",
    " \n",
    "# using set() to remove duplicated from list\n",
    "test_list = list(set(test_list))\n",
    " \n",
    "# printing list after removal\n",
    "# distorted ordering\n",
    "print (\"The list after removing duplicates : \"\n",
    "        + str(test_list))"
   ]
  },
  {
   "cell_type": "markdown",
   "id": "f68d88ef-f0f9-436c-9c6a-f75d44f13916",
   "metadata": {},
   "source": [
    "# Thankyou..."
   ]
  }
 ],
 "metadata": {
  "kernelspec": {
   "display_name": "Python 3 (ipykernel)",
   "language": "python",
   "name": "python3"
  },
  "language_info": {
   "codemirror_mode": {
    "name": "ipython",
    "version": 3
   },
   "file_extension": ".py",
   "mimetype": "text/x-python",
   "name": "python",
   "nbconvert_exporter": "python",
   "pygments_lexer": "ipython3",
   "version": "3.10.8"
  }
 },
 "nbformat": 4,
 "nbformat_minor": 5
}
